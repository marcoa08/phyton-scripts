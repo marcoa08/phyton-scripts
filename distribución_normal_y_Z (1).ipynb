{
  "nbformat": 4,
  "nbformat_minor": 0,
  "metadata": {
    "colab": {
      "provenance": [],
      "collapsed_sections": []
    },
    "kernelspec": {
      "name": "python3",
      "display_name": "Python 3"
    },
    "language_info": {
      "name": "python"
    }
  },
  "cells": [
    {
      "cell_type": "markdown",
      "source": [
        "# Tarea de distribución continua\n",
        "**Aguilar Cárcamo Marco Antonio**\n",
        "\n",
        "\n",
        "Para la demostración de $μ = \\frac{a+b}{2}$, sabemos que $E[X] = \\int_{a}^{b} xf(x)dx$ ya que la función está definida en el intervalo cerrado $[a,b]$, y que en ese intervalo $f(x) = \\frac{1}{b-a}$, entonces:\n",
        "\n",
        "$E(X) = \\int_{a}^{b} \\frac{x}{b-a}dx$ = $\\frac{1}{b-a}\\tfrac{1}{2} x^2 \\Big|_a^b=\\frac{b^2-a^2}{2}\\frac{1}{b-a} = \\frac{b+a}{2}$\n",
        "\n",
        "Para la demostración de $σ^2 = \\frac{(b-a)^2}{12}$\n",
        "\n",
        "$σ^2 = E[X^2] - (E[X])^2$\n",
        "\n",
        "$E[X^2] = \\int_{a}^{b} \\frac{x^2}{b-a}dx = \\frac{1}{b-a}\\tfrac{1}{3} x^3 \\Big|_a^b=\\frac{b^3-a^3}{3}\\frac{1}{b-a} = \\frac{a^2 + ab + b^2}{3}$\n",
        "\n",
        "Entonces \n",
        "\n",
        "$σ^2 = \\frac{a^2 + ab + b^2}{3} - (\\frac{b+a}{2})^2 = \\frac{4a^2 + 4ab + 4b^2 - 3b^2 - 6ab - 3a^2}{12} = \\frac{a^2 - 2ab + b^2}{12} = \\frac{(b-a)^2}{12}$ "
      ],
      "metadata": {
        "id": "rwU1xZ08a8pp"
      }
    },
    {
      "cell_type": "code",
      "source": [
        "#Ejercicio 6.4 \n",
        "\n",
        "#La probabilidad de una variable aleatoria con distribución continua P(a<x<b) = (1/b-a)int{c}^{d}}(dx)\n",
        "#La función está definida en el intervalo cerrado [a,b]\n",
        "#La integral de una constante en el intervalo [c,d] es d-c\n",
        "#Para el inciso a, el tiempo de espera sería 1 menos la integral de 0 a 7 de dx\n",
        "#Para el inciso b, el tiempo de espera es la integral de 2 a 7 de dx\n",
        "b=10\n",
        "a=0\n",
        "x1=0\n",
        "x2=7\n",
        "x3=2\n",
        "\n",
        "\n",
        "print('La probablidad de que espere más de 7 min es: ', 1 - (x2-x1)/(b-a))\n",
        "print('La probabilidad de que espere entre 2 y 7 minutos es: ',(x2-x3)/(b-a))\n",
        "\n"
      ],
      "metadata": {
        "colab": {
          "base_uri": "https://localhost:8080/"
        },
        "id": "LHFwa1qHfIn5",
        "outputId": "1f331ed4-c7d2-4ee3-daca-9a2373b1b397"
      },
      "execution_count": 93,
      "outputs": [
        {
          "output_type": "stream",
          "name": "stdout",
          "text": [
            "La probablidad de que espere más de 7 min es:  0.30000000000000004\n",
            "La probabilidad de que espere entre 2 y 7 minutos es:  0.5\n"
          ]
        }
      ]
    },
    {
      "cell_type": "code",
      "source": [
        "#Ejercicio 6.16\n",
        "from scipy.integrate import quad\n",
        "import numpy as np\n",
        "import matplotlib.pyplot as plt\n",
        "from matplotlib.patches import Polygon\n",
        "import scipy.stats as stats\n",
        "import pandas as pd\n",
        "def normalProbabilityDensity(x):\n",
        "    constant = 1.0 / np.sqrt(2*np.pi)\n",
        "    return(constant * np.exp((-x**2) / 2.0) )\n",
        "\n",
        "mu=99.61\n",
        "sigma=.08\n",
        "x1=99.5\n",
        "x2=99.7\n",
        "z1=(x1-mu)/sigma\n",
        "z2=(x2-mu)/sigma\n",
        "z3=1.650 #Ver la tabla 3 del Apéndice\n",
        "x3=z3*sigma+mu\n",
        "\n",
        "\n",
        "\n",
        "Pz1, _ = quad(normalProbabilityDensity, np.NINF, z1)\n",
        "Pz2, _ = quad(normalProbabilityDensity, np.NINF, z2)\n",
        "Pz3, _ = quad(normalProbabilityDensity, np.NINF, z3)\n",
        "\n",
        "\n",
        "print(z1,',',z2)\n",
        "print('P(-1.350<Z<1.125): ', Pz2-Pz1)\n",
        "print('P(Z<1.650): ', Pz3)\n",
        "print('El valor que se espera que exceda exactamente el 5% es de:', x3)\n",
        "\n"
      ],
      "metadata": {
        "colab": {
          "base_uri": "https://localhost:8080/"
        },
        "id": "bSvOLVE4RdmW",
        "outputId": "cb3edb80-54c2-4c67-e7eb-9ac84eb79653"
      },
      "execution_count": 59,
      "outputs": [
        {
          "output_type": "stream",
          "name": "stdout",
          "text": [
            "-1.374999999999993 , 1.1250000000000426\n",
            "P(-1.350<Z<1.125):  0.7851397605118642\n",
            "P(Z<1.650):  0.9505285319663341\n",
            "El valor que se espera que exceda exactamente el 5% es de: 99.742\n"
          ]
        }
      ]
    },
    {
      "cell_type": "code",
      "source": [
        "#Ejercicio 6.18 La estatura de 1000 estudiantes se distribuye normalmente con una media de 174.5 cm\n",
        "from scipy.integrate import quad\n",
        "import numpy as np\n",
        "import matplotlib.pyplot as plt\n",
        "from matplotlib.patches import Polygon\n",
        "import scipy.stats as stats\n",
        "import pandas as pd\n",
        "def normalProbabilityDensity(x):\n",
        "    constant = 1.0 / np.sqrt(2*np.pi)\n",
        "    return(constant * np.exp((-x**2) / 2.0) )\n",
        "\n",
        "mu=174.5\n",
        "sigma=6.9\n",
        "x1=159.6\n",
        "x2=171.3\n",
        "x3=181.6\n",
        "x4=174.6\n",
        "x5=175.2\n",
        "x6=187.7\n",
        "z1=(x1-mu)/sigma\n",
        "z2=(x2-mu)/sigma\n",
        "z3=(x3-mu)/sigma\n",
        "z4=(x4-mu)/sigma\n",
        "z5=(x5-mu)/sigma\n",
        "z6=(x6-mu)/sigma\n",
        "\n",
        "Pz1, _ = quad(normalProbabilityDensity, np.NINF, z1)\n",
        "Pz2, _ = quad(normalProbabilityDensity, np.NINF, z2)\n",
        "Pz3, _ = quad(normalProbabilityDensity, np.NINF, z3)\n",
        "Pz4, _ = quad(normalProbabilityDensity, np.NINF, z4)\n",
        "Pz5, _ = quad(normalProbabilityDensity, np.NINF, z5)\n",
        "Pz6, _ = quad(normalProbabilityDensity, np.NINF, z6)\n",
        "\n",
        "print(z1,',',z2, ',',z3,',',z4,',',z5,',',z6)\n",
        "print('P(Z<-2.1494): ', Pz1)\n",
        "print('Estudiantes menores de 160 cm: ', int(Pz1*1000))\n",
        "print('P(-.4637<Z<1.028): ', Pz3-Pz2)\n",
        "print('Estudiantes entre 171.5 cm y 182 cm: ', int((Pz3-Pz2)*1000))\n",
        "print('P(.014<Z<.1014): ', Pz5-Pz4)\n",
        "print('Estudiantes de 175 cm: ', int((Pz5-Pz4)*1000))\n",
        "print('P(Z>1.95): ', 1-Pz6)\n",
        "print('Estudiantes iguales o mayores de 188 cm: ', int((1-Pz6)*1000))"
      ],
      "metadata": {
        "colab": {
          "base_uri": "https://localhost:8080/"
        },
        "id": "4HVTmucUBSw9",
        "outputId": "1ec2c621-1d64-4299-9dd7-4b91402ee38b"
      },
      "execution_count": 32,
      "outputs": [
        {
          "output_type": "stream",
          "name": "stdout",
          "text": [
            "-2.159420289855073 , -0.4637681159420273 , 1.0289855072463758 , 0.014492753623187582 , 0.10144927536231718 , 1.9130434782608678\n",
            "P(Z<-2.1494):  0.01540878759433178\n",
            "Estudiantes menores de 160 cm:  15\n",
            "P(-.4637<Z<1.028):  0.5268498128192005\n",
            "Estudiantes entre 171.5 cm y 182 cm:  526\n",
            "P(.014<Z<.1014):  0.03462151915117817\n",
            "Estudiantes de 175 cm:  34\n",
            "P(Z>1.95):  0.02787124331787183\n",
            "Estudiantes iguales o mayores de 188 cm:  27\n"
          ]
        }
      ]
    },
    {
      "cell_type": "code",
      "source": [
        "#Ejercicio 6.22\n",
        "from scipy.integrate import quad\n",
        "import numpy as np\n",
        "import matplotlib.pyplot as plt\n",
        "from matplotlib.patches import Polygon\n",
        "import scipy.stats as stats\n",
        "import pandas as pd\n",
        "def normalProbabilityDensity(x):\n",
        "    constant = 1.0 / np.sqrt(2*np.pi)\n",
        "    return(constant * np.exp((-x**2) / 2.0) )\n",
        "\n",
        "x1=mu+1.3*sigma\n",
        "x2=mu-1.3*sigma\n",
        "x3=mu+.52*sigma\n",
        "x2=mu-.52*sigma\n",
        "z1=-1.3\n",
        "z2=1.3\n",
        "z3=-.52\n",
        "z4=.52\n",
        "\n",
        "\n",
        "Pz1, _ = quad(normalProbabilityDensity, np.NINF, z1)\n",
        "Pz2, _ = quad(normalProbabilityDensity, np.NINF, z2)\n",
        "Pz3, _ = quad(normalProbabilityDensity, np.NINF, z3)\n",
        "Pz4, _ = quad(normalProbabilityDensity, np.NINF, z4)\n",
        "\n",
        "\n",
        "print(z1,',',z2)\n",
        "print('P(-1.3<Z<1.3): ', Pz2-Pz1)\n",
        "print('P(-.25<Z<.25): ', Pz4-Pz3)\n",
        "print('El porcentaje que difiere de la media en más de 1.3 sigma:', (1-(Pz2-Pz1))*100)\n",
        "print('El porcentaje que difiere de la media en menos de .25 sigma:', ((Pz4-Pz3))*100)"
      ],
      "metadata": {
        "colab": {
          "base_uri": "https://localhost:8080/"
        },
        "id": "Ftl3BMXuRgY0",
        "outputId": "a5571171-2ddc-4d1f-8d69-e57e4def28c4"
      },
      "execution_count": 63,
      "outputs": [
        {
          "output_type": "stream",
          "name": "stdout",
          "text": [
            "-1.3 , 1.3\n",
            "P(-1.3<Z<1.3):  0.8063990308287805\n",
            "P(-.25<Z<.25):  0.39693642490606784\n",
            "El porcentaje que difiere de la media en más de 1.3 sigma: 19.36009691712195\n",
            "El porcentaje que difiere de la media en menos de .25 sigma: 39.693642490606784\n"
          ]
        }
      ]
    },
    {
      "cell_type": "code",
      "source": [
        "#Ejercicio 6.23\n",
        "from scipy.integrate import quad\n",
        "import numpy as np\n",
        "import matplotlib.pyplot as plt\n",
        "from matplotlib.patches import Polygon\n",
        "import scipy.stats as stats\n",
        "import pandas as pd\n",
        "def normalProbabilityDensity(x):\n",
        "    constant = 1.0 / np.sqrt(2*np.pi)\n",
        "    return(constant * np.exp((-x**2) / 2.0) )\n",
        "\n",
        "mu=115\n",
        "sigma=12\n",
        "x1=95\n",
        "z1=(x1-mu)/sigma\n",
        "\n",
        "\n",
        "Pz1, _ = quad(normalProbabilityDensity, np.NINF, round(z1,1))\n",
        "\n",
        "print(round(z1,1))\n",
        "print('P(<Z<-1.6667): ', Pz1)\n",
        "print('El numero de estudiantes rechazados es:', int(600*Pz1))"
      ],
      "metadata": {
        "colab": {
          "base_uri": "https://localhost:8080/"
        },
        "id": "1zcLzKYOYD4u",
        "outputId": "67801245-4fe2-474a-fcc6-290575dd2990"
      },
      "execution_count": 89,
      "outputs": [
        {
          "output_type": "stream",
          "name": "stdout",
          "text": [
            "-1.7\n",
            "P(-1.350<Z<1.125):  0.04456546275854305\n",
            "El numero de estudiantes rechazados es: 26\n"
          ]
        }
      ]
    }
  ]
}