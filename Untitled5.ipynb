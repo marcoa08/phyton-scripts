{
 "cells": [
  {
   "cell_type": "code",
   "execution_count": 62,
   "metadata": {},
   "outputs": [],
   "source": [
    "#Tarea 7 PyE, Estadística Inferencial\n",
    "#Aguilar Cárcamo Marco Antonio\n",
    "\n"
   ]
  },
  {
   "cell_type": "code",
   "execution_count": 27,
   "metadata": {},
   "outputs": [],
   "source": [
    "data = pd.read_csv(\"file:///C:/Users/DELL/Downloads/2013_ACCIDENTS_GU_BCN_2013.csv\")\n",
    "\n"
   ]
  },
  {
   "cell_type": "code",
   "execution_count": 26,
   "metadata": {
    "scrolled": true
   },
   "outputs": [
    {
     "name": "stdout",
     "output_type": "stream",
     "text": [
      "Mean: 25.90958904109589\n"
     ]
    }
   ],
   "source": [
    "data['Date'] = '2013-'+data['Mes de any'].apply(lambda x : str(x)) + '-' +  data['Dia de mes'].apply(lambda x : str(x))\n",
    "data['Date'] = pd.to_datetime(data['Date'])\n",
    "accidents = data.groupby(['Date']).size()\n",
    "print(\"Mean:\", accidents.mean())"
   ]
  },
  {
   "cell_type": "code",
   "execution_count": 39,
   "metadata": {},
   "outputs": [],
   "source": [
    "import numpy as np\n",
    "# population\n",
    "df = accidents.to_frame()\n",
    "N_test = 10000\n",
    "elements = 200\n",
    "# mean array of samples\n",
    "means = [0] * N_test\n",
    "# sample generation\n",
    "for i in range (N_test):\n",
    "    rows = np.random. choice(df.index. values , elements)\n",
    "    sampled_df = df.loc[ rows]\n",
    "    means[i] = sampled_df. mean()"
   ]
  },
  {
   "cell_type": "code",
   "execution_count": 41,
   "metadata": {},
   "outputs": [
    {
     "name": "stdout",
     "output_type": "stream",
     "text": [
      "Direct estimation of SE from one sample of 200 elements: 0.63989232369958\n",
      "Estimation of the SE by simulating 10000 samples of 200 elements: 0.644023185397661\n"
     ]
    }
   ],
   "source": [
    "import math\n",
    "rows = np.random. choice(df.index. values , 200)\n",
    "sampled_df = df.loc[ rows]\n",
    "est_sigma_mean = sampled_df.std()/ math.sqrt(200)\n",
    "print(\"Direct estimation of SE from one sample of 200 elements:\" , est_sigma_mean[0]) \n",
    "print (\"Estimation of the SE by simulating 10000 samples of 200 elements:\", np.array(means).std())"
   ]
  },
  {
   "cell_type": "code",
   "execution_count": 43,
   "metadata": {},
   "outputs": [
    {
     "name": "stdout",
     "output_type": "stream",
     "text": [
      "Mean estimate: 25.909880821917813\n"
     ]
    }
   ],
   "source": [
    "def meanBootstrap(X, numberb):\n",
    "    x = [0]* numberb\n",
    "    for i in range (numberb):\n",
    "        sample = [X[j]\n",
    "            for j\n",
    "            in np.random.randint( len(X), size=len(X))\n",
    "        ]\n",
    "        x[i] = np. mean(sample)\n",
    "    return x\n",
    "m = meanBootstrap( accidents , 10000)\n",
    "print (\"Mean estimate:\", np.mean(m))"
   ]
  },
  {
   "cell_type": "code",
   "execution_count": 44,
   "metadata": {},
   "outputs": [
    {
     "name": "stdout",
     "output_type": "stream",
     "text": [
      "Confidence interval: [24.975156065800284, 26.8440220163915]\n"
     ]
    }
   ],
   "source": [
    "m = accidents. mean()\n",
    "se = accidents.std()/ math.sqrt(len(accidents))\n",
    "ci = [m - se*1.96, m + se *1.96]\n",
    "print (\"Confidence interval:\", ci)"
   ]
  },
  {
   "cell_type": "code",
   "execution_count": 50,
   "metadata": {},
   "outputs": [
    {
     "name": "stdout",
     "output_type": "stream",
     "text": [
      "2010: Mean 24.81095890410959\n",
      "2013: Mean 25.90958904109589\n"
     ]
    }
   ],
   "source": [
    "data = pd. read_csv(\"file:///C:/Users/DELL/Downloads/2010_ACCIDENTS_GU_BCN_2010.csv\",\n",
    "encoding='latin -1')\n",
    "# Create a new column which is the date\n",
    "data['Date'] = '2010-'+data['Dia de mes']. apply ( lambda x: str(x)) + '-' + data['Mes de any'].apply ( lambda x: str(x))\n",
    "data2 = data['Date']\n",
    "counts2010 = data['Date'].value_counts()\n",
    "print ('2010: Mean', counts2010. mean())\n",
    "\n",
    "data = pd. read_csv(\"file:///C:/Users/DELL/Downloads/2013_ACCIDENTS_GU_BCN_2013.csv\", encoding='latin -1')\n",
    "# Create a new column which is the date\n",
    "data['Date'] = '2013-'+data['Dia de mes']. apply ( lambda x: str(x)) + '-' + data['Mes de any']. apply ( lambda x: str(x))\n",
    "data2 = data['Date']\n",
    "counts2013 = data['Date'].value_counts()\n",
    "print ('2013: Mean', counts2013. mean())"
   ]
  },
  {
   "cell_type": "code",
   "execution_count": 51,
   "metadata": {},
   "outputs": [
    {
     "name": "stdout",
     "output_type": "stream",
     "text": [
      "2010 accident rate estimate: 24.81095890410959\n",
      "2013 accident rate estimate: 25.90958904109589\n",
      "CI for 2013: [24.975156065800284, 26.8440220163915]\n"
     ]
    }
   ],
   "source": [
    "n = len(counts2013)\n",
    "mean = counts2013. mean()\n",
    "s = counts2013.std()\n",
    "ci = [mean - s*1.96/np.sqrt(n), mean + s*1.96/np.sqrt (n)]\n",
    "print ('2010 accident rate estimate:', counts2010. mean())\n",
    "print ('2013 accident rate estimate:', counts2013. mean())\n",
    "print ('CI for 2013:',ci)"
   ]
  },
  {
   "cell_type": "code",
   "execution_count": 53,
   "metadata": {},
   "outputs": [
    {
     "name": "stdout",
     "output_type": "stream",
     "text": [
      "m: 365 n: 365\n",
      "mean difference:  1.0986301369863014\n"
     ]
    }
   ],
   "source": [
    "m = len(counts2010)\n",
    "n = len(counts2013)\n",
    "p = (counts2013. mean() - counts2010. mean())\n",
    "print ('m:', m, 'n:', n)\n",
    "print ('mean difference: ', p)"
   ]
  },
  {
   "cell_type": "code",
   "execution_count": 58,
   "metadata": {},
   "outputs": [],
   "source": [
    " # pooling distributions\n",
    "x = counts2010\n",
    "y = counts2013\n",
    "pool = np. concatenate([x, y])\n",
    "np.random. shuffle( pool)\n",
    "#sample generation\n",
    "import random\n",
    "N = 10000 # number of samples\n",
    "diff = np.arange (N)\n",
    "for i in np.arange (N):\n",
    "    p1 = [random. choice(pool) for _ in np.arange (n)]\n",
    "    p2 = [random. choice(pool) for _ in np.arange (n)]\n",
    "    diff[i] = (np.mean(p1) - np.mean(p2))"
   ]
  },
  {
   "cell_type": "code",
   "execution_count": 60,
   "metadata": {},
   "outputs": [
    {
     "name": "stdout",
     "output_type": "stream",
     "text": [
      "p-value ( Simulation)= 0.0014 ( 0.13999999999999999 %) Difference = 1.0986301369863014\n",
      "The effect is likely\n"
     ]
    }
   ],
   "source": [
    "# counting differences larger than the observed one\n",
    "diff2 = np.array(diff)\n",
    "w1 = np.where(diff2 > p)[0]\n",
    "print ('p-value ( Simulation)=', len(w1)/ float (N),\n",
    "'(', len(w1)/ float (N)*100 ,'%)', 'Difference =', p)\n",
    "if ( len(w1)/ float (N)) < 0.05:\n",
    "    print ('The effect is likely')\n",
    "else :\n",
    "    print ('The effect is not likely')\n"
   ]
  }
 ],
 "metadata": {
  "kernelspec": {
   "display_name": "Python 3",
   "language": "python",
   "name": "python3"
  },
  "language_info": {
   "codemirror_mode": {
    "name": "ipython",
    "version": 3
   },
   "file_extension": ".py",
   "mimetype": "text/x-python",
   "name": "python",
   "nbconvert_exporter": "python",
   "pygments_lexer": "ipython3",
   "version": "3.8.5"
  }
 },
 "nbformat": 4,
 "nbformat_minor": 4
}
